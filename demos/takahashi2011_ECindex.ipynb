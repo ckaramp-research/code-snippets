{
 "cells": [
  {
   "cell_type": "markdown",
   "metadata": {},
   "source": [
    "# E and C index from Takahashi et al. 2011\n",
    "\n",
    "<div style=\"\n",
    "    max-width: 500px; \n",
    "    padding: 10px; \n",
    "    background-color: rgba(240, 240, 240, 0.85); \n",
    "    color: black; \n",
    "    border-radius: 5px;\n",
    "    border: 1px solid rgba(0, 0, 0, 0.1);\n",
    "\">\n",
    "    <strong>Takahashi, K., Montecinos, A., Goubanova, K., and Dewitte, B (2011)</strong>, \n",
    "    ENSO regimes: Reinterpreting the canonical and Modoki El Niño, \n",
    "    <i>Geophys. Res. Lett.</i>, 38, L10704, \n",
    "    <a href=\"https://doi.org/10.1029/2011GL047364\" style=\"color: #1a73e8;\">doi:10.1029/2011GL047364</a>.\n",
    "</div>"
   ]
  },
  {
   "cell_type": "markdown",
   "metadata": {},
   "source": [
    "The paper developed by Takahashi et al. proposes that the first two modes resulting from the Empirical Orthogonal Function (EOF) analysis of sea surface temperature anomalies do not represent distinct phenomena—EOF1 associated with El Niño-Southern Oscillation (ENSO) and EOF2 associated with El Niño Modoki—but rather the nonlinear evolution of ENSO. This evolution translates into the E and C indices, which are uncorrelated (not related by construction) and successfully explain the variability in the equatorial Pacific. The C index represents the variability regime in the central Pacific, while the E index corresponds to the eastern Pacific.  \n",
    "\n",
    "The original study utilizes the Hadley Centre Global Sea Ice and Sea Surface Temperature (HadISST) version 1.1 dataset. The monitoring work conducted by IGP includes the calculation of this index using ERSSTv5, which can be accessed through the following [link](http://met.igp.gob.pe/variabclim/indices.html).  \n",
    "\n",
    "To perform the calculations, we will use sea surface temperature data from ERSSTv5 [1], accessed via the OPENDAP server at NOAA. The following steps will be followed:  \n",
    "\n",
    "<ol>  \n",
    "<li>Load the data using xarray, adjusting the time axis if necessary, and restricting our domain to 10°S–10°N, 110°E–90°W, from January 1870 onward.</li>  \n",
    "\n",
    "<li>Compute the anomalies using the 1979–2009 period as the baseline. This period will be used for all calculations (EOFs and correlations).</li>  \n",
    "\n",
    "<li>Perform the EOF calculation over the climatological period.</li>  \n",
    "\n",
    "<li>Project the complete anomaly time series onto the EOFs computed from the climatology to obtain the principal components (PCs). This is achieved via an inner product.</li>  \n",
    "\n",
    "<li>Normalize the principal components using the standard deviation of the baseline period.</li>  \n",
    "\n",
    "</ol>  \n",
    "\n",
    "## References:  \n",
    "\n",
    "[1]: Huang, B., P. W. Thorne, V. F. Banzon, T. Boyer, G. Chepurin, J. H. Lawrimore, M. J. Menne, T. M. Smith, R. S. Vose, and H.-M. Zhang, 2017: Extended Reconstructed Sea Surface Temperature, version 5 (ERSSTv5): Upgrades, validations, and intercomparisons. J. Climate, 30, 8179-8205, doi:10.1175/JCLI-D-16-0836.1.  "
   ]
  },
  {
   "cell_type": "markdown",
   "metadata": {},
   "source": [
    "## Python code"
   ]
  },
  {
   "cell_type": "code",
   "execution_count": null,
   "metadata": {},
   "outputs": [],
   "source": [
    "if \"google.colab\" in str(get_ipython()):\n",
    "    print(\"Running on CoLab\")\n",
    "    !pip install xeofs netcdf4 cartopy\n",
    "else:\n",
    "    print(\"Not running on CoLab\")"
   ]
  },
  {
   "cell_type": "markdown",
   "metadata": {},
   "source": [
    "First we need to import the necessary libraries and set the plotting style. "
   ]
  },
  {
   "cell_type": "code",
   "execution_count": null,
   "metadata": {},
   "outputs": [],
   "source": [
    "import cartopy.crs as ccrs\n",
    "import cartopy.feature as cfeature\n",
    "import matplotlib.pyplot as plt\n",
    "import numpy as np\n",
    "import numpy.polynomial.polynomial as poly\n",
    "import pandas as pd\n",
    "import xarray as xr\n",
    "from xeofs.single import EOF\n",
    "\n",
    "plt.rcParams[\"font.family\"] = \"monospace\""
   ]
  },
  {
   "cell_type": "markdown",
   "metadata": {},
   "source": [
    "Most of the functions here have been defined to ease the process of calculating the indices. "
   ]
  },
  {
   "cell_type": "code",
   "execution_count": null,
   "metadata": {},
   "outputs": [],
   "source": [
    "def compute_alpha(pc1, pc2):\n",
    "    coefs = poly.polyfit(pc1, pc2, deg=2)\n",
    "    xfit = np.arange(pc1.min(), pc1.max() + 0.1, 0.1)\n",
    "    fit = poly.polyval(xfit, coefs)\n",
    "    return coefs[-1], xfit, fit\n",
    "\n",
    "\n",
    "def correction_factor(model):\n",
    "    # EOF analysis is an eigenvalue problem, and the sign of the EOFs is arbitrary.\n",
    "    # To ensure a consistent sign convention, we define a correction factor\n",
    "    # based on the mean value of the EOFs in a specific region of the tropical Pacific.\n",
    "    _eofs = model.components()\n",
    "    _subset = dict(lat=slice(-5, 5), lon=slice(140, 180))\n",
    "    corr_factor = np.zeros(2)\n",
    "    corr_factor[0] = 1 if _eofs.sel(mode=1, **_subset).mean() > 0 else -1\n",
    "    corr_factor[1] = 1 if _eofs.sel(mode=2, **_subset).mean() > 0 else -1\n",
    "    return xr.DataArray(corr_factor, coords=[(\"mode\", [1, 2])])\n",
    "\n",
    "\n",
    "def compute_index(tos_anom, base_period):\n",
    "    # select the tropical Pacific region\n",
    "    tos_anom = tos_anom.sel(lat=slice(-20, 20), lon=slice(100, 280))\n",
    "\n",
    "    model = EOF(n_modes=2, use_coslat=True)\n",
    "\n",
    "    # Compute Eofs with the base period\n",
    "    model.fit(tos_anom.sel(time=slice(*base_period)), dim=\"time\")\n",
    "    scale_factor = 1 / np.sqrt(model.explained_variance())\n",
    "\n",
    "    # Compute the correction factor\n",
    "    corr_factor = correction_factor(model)\n",
    "\n",
    "    # Project the complete series of anomalies onto the climatological EOFs\n",
    "    # we apply the scale factor and the correction factor\n",
    "    pcs = model.transform(tos_anom) * scale_factor * corr_factor\n",
    "\n",
    "    pc1 = pcs.sel(mode=1)\n",
    "    pc2 = pcs.sel(mode=2)\n",
    "\n",
    "    # Perform 45-degree rotation to obtain the E and C indices\n",
    "    eindex = (pc1 - pc2) / (2 ** (1 / 2))\n",
    "    eindex.name = \"E_index\"\n",
    "    cindex = (pc1 + pc2) / (2 ** (1 / 2))\n",
    "    cindex.name = \"C_index\"\n",
    "    ecindex = xr.merge([eindex, cindex])\n",
    "\n",
    "    # Select only the winter months (December, January, February)\n",
    "    # to compute alpha fit\n",
    "    pc1_djf = pc1.sel(time=pc1.time.dt.month.isin([12, 1, 2]))\n",
    "    pc1_djf = (\n",
    "        pc1_djf.resample(time=\"QS-DEC\")\n",
    "        .mean()\n",
    "        .dropna(\"time\")\n",
    "        .sel(time=slice(\"1980\", None))\n",
    "    )\n",
    "    pc1_djf[\"time\"] = (\n",
    "        pc1_djf.indexes[\"time\"].to_series().apply(lambda x: x + pd.DateOffset(years=1))\n",
    "    )\n",
    "    pc1_djf.name = \"pc1_djf\"\n",
    "\n",
    "    pc2_djf = pc2.sel(time=pc2.time.dt.month.isin([12, 1, 2]))\n",
    "    pc2_djf = (\n",
    "        pc2_djf.resample(time=\"QS-DEC\")\n",
    "        .mean()\n",
    "        .dropna(\"time\")\n",
    "        .sel(time=slice(\"1980\", None))\n",
    "    )\n",
    "    pc2_djf[\"time\"] = (\n",
    "        pc2_djf.indexes[\"time\"].to_series().apply(lambda x: x + pd.DateOffset(years=1))\n",
    "    )\n",
    "    pc2_djf.name = \"pc2_djf\"\n",
    "\n",
    "    pcs_djf = xr.concat([pc1_djf, pc2_djf], dim=\"mode\")\n",
    "\n",
    "    alpha, xfit, fit = compute_alpha(pc1_djf, pc2_djf)\n",
    "\n",
    "    return ecindex, pcs, pcs_djf, alpha, xfit, fit"
   ]
  },
  {
   "cell_type": "markdown",
   "metadata": {},
   "source": [
    "## Data loading\n",
    "\n",
    "We will use the ERSSTv5 dataset accessed via OPeNDAP. "
   ]
  },
  {
   "cell_type": "code",
   "execution_count": null,
   "metadata": {},
   "outputs": [],
   "source": [
    "# do not decode time because we need to fix the calendar\n",
    "ersstv5 = xr.open_dataset(\n",
    "    \"http://psl.noaa.gov/thredds/dodsC/Datasets/noaa.ersst.v5/sst.mnmean.nc\",\n",
    ").sortby(\"lat\")\n",
    "ersstv5"
   ]
  },
  {
   "cell_type": "markdown",
   "metadata": {},
   "source": [
    "## Data Processing"
   ]
  },
  {
   "cell_type": "markdown",
   "metadata": {},
   "source": [
    "For this index we just need to define a base period from which the anomalies and climatological EOFs will be calculated."
   ]
  },
  {
   "cell_type": "code",
   "execution_count": null,
   "metadata": {},
   "outputs": [],
   "source": [
    "sst = ersstv5.sst\n",
    "\n",
    "base_period = (\"1991\", \"2020\")\n",
    "sst_clim = sst.sel(time=slice(*base_period)).groupby(\"time.month\").mean(\"time\")\n",
    "sst_anom = sst.groupby(\"time.month\") - sst_clim"
   ]
  },
  {
   "cell_type": "markdown",
   "metadata": {},
   "source": [
    "Sanity check"
   ]
  },
  {
   "cell_type": "code",
   "execution_count": null,
   "metadata": {},
   "outputs": [],
   "source": [
    "# Plot the tropical pacific mean\n",
    "fig, ax = plt.subplots(figsize=(10, 3))\n",
    "sst_anom.sel(lat=slice(-20, 20), lon=slice(100, 280)).mean([\"lat\", \"lon\"]).plot(\n",
    "    ax=ax, c=\"k\", lw=0.5\n",
    ")\n",
    "ax.set_ylabel(\"SST Anomaly (°C)\")"
   ]
  },
  {
   "cell_type": "markdown",
   "metadata": {},
   "source": [
    "Now we can pass our anomalies to the function that calculates the indices. This function has been setup to return the indices, the PCs for DJF and the quadratic fit (alpha value) for ENSO nonlinearity."
   ]
  },
  {
   "cell_type": "code",
   "execution_count": null,
   "metadata": {},
   "outputs": [],
   "source": [
    "ecindex, pcs, pcs_djf, alpha, xfit, fit = compute_index(\n",
    "    sst_anom, base_period=base_period\n",
    ")"
   ]
  },
  {
   "cell_type": "markdown",
   "metadata": {},
   "source": [
    "### E and C indices plot"
   ]
  },
  {
   "cell_type": "code",
   "execution_count": null,
   "metadata": {},
   "outputs": [],
   "source": [
    "start_time = \"1980\"\n",
    "e_sel = ecindex.E_index.sel(time=slice(start_time, None))\n",
    "c_sel = ecindex.C_index.sel(time=slice(start_time, None))\n",
    "\n",
    "shared_kwargs = dict(linewidth=1, linestyle=\"-\", c=\"k\")\n",
    "\n",
    "fig, axs = plt.subplots(2, 1, figsize=(10, 4))\n",
    "ax = axs[0]\n",
    "c_sel.plot(ax=ax, **shared_kwargs)\n",
    "ax.fill_between(\n",
    "    c_sel.time, y1=0, y2=c_sel, where=(c_sel > 0), color=\"tab:red\", alpha=0.3\n",
    ")\n",
    "ax.fill_between(\n",
    "    c_sel.time, y1=0, y2=c_sel, where=(c_sel < 0), color=\"tab:blue\", alpha=0.3\n",
    ")\n",
    "ax.set_ylabel(\"C Index\")\n",
    "ax.set_ylim(-4, 3)\n",
    "\n",
    "ax = axs[1]\n",
    "e_sel.plot(ax=ax, **shared_kwargs)\n",
    "ax.fill_between(\n",
    "    e_sel.time, y1=0, y2=e_sel, where=(e_sel > 0), color=\"tab:red\", alpha=0.3\n",
    ")\n",
    "ax.fill_between(\n",
    "    e_sel.time, y1=0, y2=e_sel, where=(e_sel < 0), color=\"tab:blue\", alpha=0.3\n",
    ")\n",
    "ax.set_ylabel(\"E Index\")\n",
    "ax.set_ylim(-2, 5)\n",
    "\n",
    "for ax in axs:\n",
    "    ax.axhline(0, c=\"k\", lw=0.5, ls=\"--\")\n",
    "    ax.set_xlabel(\"Time\")\n",
    "    ax.set_xlim(e_sel.time[0], e_sel.time[-1])\n",
    "    ax.grid(ls=\"--\")"
   ]
  },
  {
   "cell_type": "markdown",
   "metadata": {},
   "source": [
    "## Alpha fit plot"
   ]
  },
  {
   "cell_type": "code",
   "execution_count": null,
   "metadata": {},
   "outputs": [],
   "source": [
    "fig, ax = plt.subplots(figsize=(6, 6))\n",
    "ax.axhline(0, color=\"k\", linestyle=\"--\", alpha=0.2)\n",
    "ax.axvline(0, color=\"k\", linestyle=\"--\", alpha=0.2)\n",
    "\n",
    "# draw a line 45 degrees\n",
    "x = np.linspace(-6, 6, 100)\n",
    "y = x\n",
    "ax.plot(x, y, color=\"k\", alpha=0.5, lw=1)\n",
    "ax.plot(-x, y, color=\"k\", alpha=0.5, lw=1)\n",
    "\n",
    "ax.scatter(\n",
    "    pcs_djf.sel(mode=1),\n",
    "    pcs_djf.sel(mode=2),\n",
    "    s=18,\n",
    "    marker=\"o\",\n",
    "    c=\"w\",\n",
    "    edgecolors=\"k\",\n",
    "    linewidths=1,\n",
    ")\n",
    "\n",
    "ax.plot(xfit, fit, c=\"r\", label=f\"$\\\\alpha=${alpha:.2f}\")\n",
    "\n",
    "ax.set_xlabel(\"PC1\")\n",
    "ax.set_ylabel(\"PC2\")\n",
    "\n",
    "ax.set_xlim(-4, 6)\n",
    "ax.set_ylim(-6, 4)\n",
    "ax.legend()\n",
    "\n",
    "_mask = np.logical_and(pcs_djf.sel(mode=1) > 2, pcs_djf.sel(mode=2) < 0)\n",
    "for year in pcs_djf.sel(mode=1)[_mask].time.dt.year.data:\n",
    "    ax.text(\n",
    "        pcs_djf.sel(mode=1).sel(time=str(year).zfill(4)).values,\n",
    "        pcs_djf.sel(mode=2).sel(time=str(year).zfill(4)).values,\n",
    "        str(year),\n",
    "        fontsize=8,\n",
    "        ha=\"left\",\n",
    "        va=\"bottom\",\n",
    "        color=\"k\",\n",
    "    )"
   ]
  },
  {
   "cell_type": "markdown",
   "metadata": {},
   "source": [
    "### Regression patterns\n",
    "\n",
    "We will now verifiy the regression patterns of the compute E and C index for the climatological period."
   ]
  },
  {
   "cell_type": "code",
   "execution_count": null,
   "metadata": {},
   "outputs": [],
   "source": [
    "ec_clim_period = xr.concat([ecindex.E_index, ecindex.C_index], dim=\"mode\").sel(\n",
    "    time=slice(*base_period)\n",
    ")\n",
    "sst_clim_period = sst_anom.sel(time=slice(*base_period))"
   ]
  },
  {
   "cell_type": "code",
   "execution_count": null,
   "metadata": {},
   "outputs": [],
   "source": [
    "cov = xr.cov(ec_clim_period, sst_clim_period, dim=\"time\")\n",
    "std = ec_clim_period.std(\"time\")\n",
    "reg = cov / std"
   ]
  },
  {
   "cell_type": "code",
   "execution_count": null,
   "metadata": {},
   "outputs": [],
   "source": [
    "shared_kwargs = dict(\n",
    "    cmap=\"RdBu_r\",\n",
    "    vmin=-1,\n",
    "    vmax=1,\n",
    "    levels=21,\n",
    "    transform=ccrs.PlateCarree(),\n",
    "    add_colorbar=False,\n",
    "    extend=\"both\",\n",
    ")\n",
    "shared_kwargs_contour = dict(\n",
    "    colors=\"k\", linewidths=0.5, transform=ccrs.PlateCarree(), levels=11\n",
    ")\n",
    "fig, axs = plt.subplots(\n",
    "    figsize=(10, 5),\n",
    "    nrows=2,\n",
    "    ncols=1,\n",
    "    sharex=True,\n",
    "    subplot_kw={\"projection\": ccrs.PlateCarree(central_longitude=180)},\n",
    ")\n",
    "ax = axs[0]\n",
    "reg.sel(mode=0).plot.contourf(ax=ax, **shared_kwargs)\n",
    "reg.sel(mode=0).plot.contour(ax=ax, **shared_kwargs_contour)\n",
    "ax.set_title(\"E pattern\")\n",
    "\n",
    "ax = axs[1]\n",
    "_plot = reg.sel(mode=1).plot.contourf(ax=ax, **shared_kwargs)\n",
    "reg.sel(mode=1).plot.contour(ax=ax, **shared_kwargs_contour)\n",
    "ax.set_title(\"C pattern\")\n",
    "\n",
    "for ax in axs:\n",
    "    # ax.coastlines()\n",
    "    ax.add_feature(\n",
    "        cfeature.LAND, facecolor=\"lightgray\", edgecolor=\"black\", zorder=1, linewidth=1\n",
    "    )\n",
    "    ax.add_feature(cfeature.BORDERS, linewidth=0.5)\n",
    "    ax.set_ylabel(\"Latitude\")\n",
    "    ax.set_xlabel(\"Longitude\")\n",
    "    ax.set_extent([100, 290, -20, 20], crs=ccrs.PlateCarree())\n",
    "    gl = ax.gridlines(\n",
    "        draw_labels=True,\n",
    "        xlocs=np.arange(-180, 180, 20),\n",
    "        ylocs=np.arange(-30, 30, 5),\n",
    "        ls=\"--\",\n",
    "        alpha=0.5,\n",
    "    )\n",
    "    gl.top_labels = False\n",
    "\n",
    "# cbar axes\n",
    "cbar_ax = fig.add_axes([0.2, 0.03, 0.6, 0.02])\n",
    "fig.colorbar(\n",
    "    _plot, cax=cbar_ax, orientation=\"horizontal\", label=\"Regression Coefficient\"\n",
    ")"
   ]
  }
 ],
 "metadata": {
  "kernelspec": {
   "display_name": "enso2025",
   "language": "python",
   "name": "python3"
  },
  "language_info": {
   "codemirror_mode": {
    "name": "ipython",
    "version": 3
   },
   "file_extension": ".py",
   "mimetype": "text/x-python",
   "name": "python",
   "nbconvert_exporter": "python",
   "pygments_lexer": "ipython3",
   "version": "3.12.9"
  }
 },
 "nbformat": 4,
 "nbformat_minor": 2
}

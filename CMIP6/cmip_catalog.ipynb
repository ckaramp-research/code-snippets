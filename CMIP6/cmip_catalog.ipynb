{
 "cells": [
  {
   "cell_type": "markdown",
   "metadata": {},
   "source": [
    "# CMIP 6 catalog\n",
    "\n",
    "The CMIP6 data catalog is hosted as a csv file in google cloud. We can read from this catalog, filter the datasets we want to work with, and then only load the data we need. This is a great way to work with large datasets without having to download everything."
   ]
  },
  {
   "cell_type": "code",
   "execution_count": null,
   "metadata": {},
   "outputs": [],
   "source": [
    "if \"google.colab\" in str(get_ipython()):\n",
    "    print(\"Running on CoLab\")\n",
    "    !pip install zarr==2.18 cftime\n",
    "else:\n",
    "    print(\"Not running on CoLab\")"
   ]
  },
  {
   "cell_type": "code",
   "execution_count": null,
   "metadata": {},
   "outputs": [],
   "source": [
    "import gcsfs\n",
    "import pandas as pd\n",
    "import xarray as xr"
   ]
  },
  {
   "cell_type": "markdown",
   "metadata": {},
   "source": [
    "First we need to do an anonymous log-in to Google Cloud file system:"
   ]
  },
  {
   "cell_type": "code",
   "execution_count": null,
   "metadata": {},
   "outputs": [],
   "source": [
    "fs = gcsfs.GCSFileSystem(token=\"anon\", access=\"read_only\")"
   ]
  },
  {
   "cell_type": "markdown",
   "metadata": {},
   "source": [
    "We can now work with the CMIP6 catalog as a `pandas` dataframe. "
   ]
  },
  {
   "cell_type": "code",
   "execution_count": null,
   "metadata": {},
   "outputs": [],
   "source": [
    "cat = pd.read_csv(\n",
    "    \"https://storage.googleapis.com/cmip6/cmip6-zarr-consolidated-stores.csv\"\n",
    ")\n",
    "cat.head()"
   ]
  },
  {
   "cell_type": "markdown",
   "metadata": {},
   "source": [
    "Using `pandas` methods, we can filter and select the variables of interest. Then, we can use `xarray` to load the data and work with it. More information about the CMIP6 catalog can be found in this excel file: [CMIP6_MIP_tables.xlsx](https://github.com/ckaramp-research/code-snippets/blob/main/data/CMIP6_MIP_tables.xlsx)"
   ]
  },
  {
   "cell_type": "code",
   "execution_count": null,
   "metadata": {},
   "outputs": [],
   "source": [
    "data_query = cat.query(\n",
    "    \"activity_id == 'CMIP' & table_id == 'Amon' & variable_id == 'tas' & experiment_id == 'historical' & source_id == 'GFDL-CM4'\"\n",
    ")\n",
    "data_query"
   ]
  },
  {
   "cell_type": "code",
   "execution_count": null,
   "metadata": {},
   "outputs": [],
   "source": [
    "xrdata = xr.open_zarr(fs.get_mapper(data_query.zstore.iloc[0]), consolidated=True)\n",
    "xrdata"
   ]
  },
  {
   "cell_type": "markdown",
   "metadata": {},
   "source": [
    "We can also query variables with vertical levels and save the output using `xarray` methods. Thanks to zarr, we should be able to access only the data we need without downloading the entire dataset."
   ]
  },
  {
   "cell_type": "code",
   "execution_count": null,
   "metadata": {},
   "outputs": [],
   "source": [
    "data_query = cat.query(\n",
    "    \"activity_id == 'CMIP' & table_id == 'Omon' & variable_id == 'thetao' & experiment_id == 'historical' & source_id == 'GFDL-CM4' & grid_label == 'gr'\"\n",
    ")\n",
    "data_query"
   ]
  },
  {
   "cell_type": "code",
   "execution_count": null,
   "metadata": {},
   "outputs": [],
   "source": [
    "xrdata = xr.open_zarr(fs.get_mapper(data_query.zstore.iloc[0]), consolidated=True)\n",
    "xrdata"
   ]
  },
  {
   "cell_type": "code",
   "execution_count": null,
   "metadata": {},
   "outputs": [],
   "source": [
    "xrdata.nbytes / 1e9  # in GB"
   ]
  },
  {
   "cell_type": "markdown",
   "metadata": {},
   "source": [
    "We can see that the size of this dataset is almost 18GB. Since we are interested in only a region, we can filter the data and only load the region of interest. This will save us a lot of time and storage space."
   ]
  },
  {
   "cell_type": "code",
   "execution_count": null,
   "metadata": {},
   "outputs": [],
   "source": [
    "subset_region = xrdata.sel(lat=slice(-5, 5), lon=slice(190, 240))\n",
    "subset_region"
   ]
  },
  {
   "cell_type": "code",
   "execution_count": null,
   "metadata": {},
   "outputs": [],
   "source": [
    "subset_region.nbytes / 1e9  # in GB"
   ]
  },
  {
   "cell_type": "markdown",
   "metadata": {},
   "source": [
    "This still might take a while, but it is much better than downloading the entire dataset."
   ]
  },
  {
   "cell_type": "code",
   "execution_count": null,
   "metadata": {},
   "outputs": [],
   "source": [
    "subset_region.to_netcdf(\"subset_region.nc\")  # Save the subset to a NetCDF file"
   ]
  }
 ],
 "metadata": {
  "kernelspec": {
   "display_name": "enso2025",
   "language": "python",
   "name": "python3"
  },
  "language_info": {
   "codemirror_mode": {
    "name": "ipython",
    "version": 3
   },
   "file_extension": ".py",
   "mimetype": "text/x-python",
   "name": "python",
   "nbconvert_exporter": "python",
   "pygments_lexer": "ipython3",
   "version": "3.12.9"
  }
 },
 "nbformat": 4,
 "nbformat_minor": 2
}

{
 "cells": [
  {
   "cell_type": "markdown",
   "metadata": {},
   "source": [
    "# Subset and regrid CMIP6 data from ESGF"
   ]
  },
  {
   "cell_type": "markdown",
   "metadata": {},
   "source": [
    "This notebook showcases how to use `intake_esfg` to search and filter the CMIP6 collection, and how to use `rooki` to subset and regrid the data on the cloud."
   ]
  },
  {
   "cell_type": "code",
   "execution_count": 14,
   "metadata": {},
   "outputs": [],
   "source": [
    "import os\n",
    "\n",
    "import intake_esgf\n",
    "\n",
    "# Run this on the DKRZ node in Germany, using the ESGF1 index node at LLNL\n",
    "os.environ[\"ROOK_URL\"] = \"http://rook.dkrz.de/wps\"\n",
    "# data download directory\n",
    "import os\n",
    "\n",
    "os.environ[\"ROOKI_OUTPUT_DIR\"] = os.path.join(os.getcwd(), \"rookie_output\")\n",
    "\n",
    "intake_esgf.conf.set(\n",
    "    indices={\"anl-dev\": False, \"ornl-dev\": False, \"esgf-node.llnl.gov\": True}\n",
    ")\n",
    "\n",
    "import xarray as xr\n",
    "from intake_esgf import ESGFCatalog\n",
    "from rooki import operators as ops"
   ]
  },
  {
   "cell_type": "markdown",
   "metadata": {},
   "source": [
    "## Retrieve subset of CMIP6 data\n",
    "\n",
    "The CMIP6 dataset is identified by a dataset-id. Using intake-esgf we can query the ESGF database for the variables and models we are interested in. For this demo we are interested in the tos (sea surface temperature) variable for the historical runs. Also, for sake of simplicity we will only query a subset of the models available."
   ]
  },
  {
   "cell_type": "code",
   "execution_count": 15,
   "metadata": {},
   "outputs": [
    {
     "data": {
      "application/vnd.jupyter.widget-view+json": {
       "model_id": "4c04fb4f90994c4bae8c2d51b727f0fc",
       "version_major": 2,
       "version_minor": 0
      },
      "text/plain": [
       "   Searching indices:   0%|          |0/1 [       ?index/s]"
      ]
     },
     "metadata": {},
     "output_type": "display_data"
    },
    {
     "name": "stdout",
     "output_type": "stream",
     "text": [
      "Summary information for 4 results:\n",
      "mip_era                                                     [CMIP6]\n",
      "activity_drs                                                 [CMIP]\n",
      "institution_id                                   [NCAR, CAS, MIROC]\n",
      "source_id         [CESM2-FV2, CESM2-WACCM-FV2, FGOALS-f3-L, MIRO...\n",
      "experiment_id                                          [historical]\n",
      "member_id                                      [r1i1p1f1, r1i1p1f2]\n",
      "table_id                                                     [Omon]\n",
      "variable_id                                                   [tos]\n",
      "grid_label                                                     [gn]\n",
      "dtype: object\n"
     ]
    }
   ],
   "source": [
    "cat = ESGFCatalog()\n",
    "cat.search(\n",
    "    experiment_id=[\"historical\"],\n",
    "    variable_id=[\"tos\"],\n",
    "    table_id=[\"Omon\"],\n",
    "    project=[\"CMIP6\"],\n",
    "    grid_label=[\"gn\"],\n",
    "    source_id=[\n",
    "        \"CESM2-FV2\",\n",
    "        \"CESM2-WACCM-FV2\",\n",
    "        \"FGOALS-f3-L\",\n",
    "        \"MIROC-ES2L\",\n",
    "    ],\n",
    ")\n",
    "cat.remove_ensembles()  # we only want to work with the parent datasets\n",
    "print(cat)"
   ]
  },
  {
   "cell_type": "markdown",
   "metadata": {},
   "source": [
    "Once the catalog has been queried, we have to do some manipulation in pandas to keep only the dataset_id. This has to be done because the same data has multiple locations online, and these get appended at the end of the dataset_id. Rookie only accepts the dataset_id without the online location, so we get rid of it in the next step."
   ]
  },
  {
   "cell_type": "code",
   "execution_count": 16,
   "metadata": {},
   "outputs": [
    {
     "data": {
      "text/plain": [
       "['CMIP6.CMIP.NCAR.CESM2-FV2.historical.r1i1p1f1.Omon.tos.gn.v20191120|esgf-data.ucar.edu',\n",
       " 'CMIP6.CMIP.NCAR.CESM2-FV2.historical.r1i1p1f1.Omon.tos.gn.v20191120|esgf-data1.llnl.gov',\n",
       " 'CMIP6.CMIP.NCAR.CESM2-FV2.historical.r1i1p1f1.Omon.tos.gn.v20191120|esgf-data04.diasjp.net']"
      ]
     },
     "execution_count": 16,
     "metadata": {},
     "output_type": "execute_result"
    }
   ],
   "source": [
    "cat.df.id[0]"
   ]
  },
  {
   "cell_type": "code",
   "execution_count": 17,
   "metadata": {},
   "outputs": [],
   "source": [
    "def keep_ds_id(ds):\n",
    "    return ds[0].split(\"|\")[0]"
   ]
  },
  {
   "cell_type": "markdown",
   "metadata": {},
   "source": [
    "These paths are what we are looking for"
   ]
  },
  {
   "cell_type": "code",
   "execution_count": 18,
   "metadata": {},
   "outputs": [
    {
     "data": {
      "text/plain": [
       "['CMIP6.CMIP.NCAR.CESM2-FV2.historical.r1i1p1f1.Omon.tos.gn.v20191120',\n",
       " 'CMIP6.CMIP.NCAR.CESM2-WACCM-FV2.historical.r1i1p1f1.Omon.tos.gn.v20191120',\n",
       " 'CMIP6.CMIP.CAS.FGOALS-f3-L.historical.r1i1p1f1.Omon.tos.gn.v20191007',\n",
       " 'CMIP6.CMIP.MIROC.MIROC-ES2L.historical.r1i1p1f2.Omon.tos.gn.v20190823']"
      ]
     },
     "execution_count": 18,
     "metadata": {},
     "output_type": "execute_result"
    }
   ],
   "source": [
    "collections = cat.df.id.apply(keep_ds_id).to_list()\n",
    "collections"
   ]
  },
  {
   "cell_type": "markdown",
   "metadata": {},
   "source": [
    "## Subset and regrid\n",
    "We define a function that will do the subset and regridding for us for each of the dataset_ids we have. The function will take the dataset_id as input and then use Rookie functions to select 100 years of data for the tos variable in the Pacific Ocean region."
   ]
  },
  {
   "cell_type": "markdown",
   "metadata": {},
   "source": [
    "For more information about the operations, you can go to [rook's documentation](https://rook-wps.readthedocs.io/en/latest/processes.html#).\n",
    "\n",
    "For regridding, refer to this [source code](https://github.com/roocs/rook/blob/main/src/rook/processes/wps_regrid.py)\n",
    "\n",
    "\n",
    "**Note:** Some dataset requests might fail when querying more than 25 years of data (might be size related, needs more testing). So it would be safer to keep the request below that threshold and implement a loop to retrieve more data if needed."
   ]
  },
  {
   "cell_type": "code",
   "execution_count": 19,
   "metadata": {},
   "outputs": [],
   "source": [
    "def get_pacific_ocean(dataset_id):\n",
    "    wf = ops.Regrid(\n",
    "        ops.Subset(\n",
    "            ops.Input(\"tos\", [dataset_id]),\n",
    "            time=\"1850-01-01/1875-01-31\",\n",
    "            area=\"100,-20,280,20\",\n",
    "        ),\n",
    "        method=\"bilinear\",\n",
    "        grid=\"1deg\",\n",
    "    )\n",
    "    resp = wf.orchestrate()\n",
    "    if resp.ok:\n",
    "        print(f\"{resp.size_in_mb=}\")\n",
    "        ds = resp.datasets()[0]\n",
    "    else:\n",
    "        raise ValueError(resp)\n",
    "        # ds = xr.Dataset()\n",
    "    return ds"
   ]
  },
  {
   "cell_type": "code",
   "execution_count": null,
   "metadata": {},
   "outputs": [
    {
     "name": "stdout",
     "output_type": "stream",
     "text": [
      "resp.size_in_mb=74.72034358978271\n",
      "Downloading to /Users/dangomelon/Repos/code_snippets/CMIP6/rookie_output/metalink_i7djw9c2/tos_Omon_CESM2-FV2_historical_r1i1p1f1_gr_18500115-18750115_regrid-bilinear-180x360_cells_grid.nc.\n",
      "resp.size_in_mb=74.72035503387451\n",
      "Downloading to /Users/dangomelon/Repos/code_snippets/CMIP6/rookie_output/metalink_ud0lqq1s/tos_Omon_CESM2-WACCM-FV2_historical_r1i1p1f1_gr_18500115-18750115_regrid-bilinear-180x360_cells_grid.nc.\n"
     ]
    }
   ],
   "source": [
    "sst_data = {dset: get_pacific_ocean(dset) for dset in collections}"
   ]
  },
  {
   "cell_type": "markdown",
   "metadata": {},
   "source": [
    "The result will be downloaded to a temp folder in our local machine. We can then explore the data using xarray or any other tool of our choice."
   ]
  },
  {
   "cell_type": "code",
   "execution_count": null,
   "metadata": {},
   "outputs": [
    {
     "data": {
      "text/plain": [
       "{'CMIP6.CMIP.NCAR.CESM2-FV2.historical.r1i1p1f1.Omon.tos.gn.v20191120': <xarray.Dataset> Size: 78MB\n",
       " Dimensions:    (lat: 180, lon: 360, bnds: 2, time: 301, d2: 2)\n",
       " Coordinates:\n",
       "   * lat        (lat) float64 1kB -89.5 -88.5 -87.5 -86.5 ... 86.5 87.5 88.5 89.5\n",
       "   * lon        (lon) float64 3kB 0.5 1.5 2.5 3.5 4.5 ... 356.5 357.5 358.5 359.5\n",
       "     lat_bnds   (lat, bnds) float64 3kB ...\n",
       "     lon_bnds   (lon, bnds) float64 6kB ...\n",
       "   * time       (time) object 2kB 1850-01-15 13:00:00.000008 ... 1875-01-15 12...\n",
       "     time_bnds  (time, d2) object 5kB ...\n",
       " Dimensions without coordinates: bnds, d2\n",
       " Data variables:\n",
       "     tos        (time, lat, lon) float32 78MB ...\n",
       "     mask       (lat, lon) int32 259kB ...\n",
       " Attributes: (12/50)\n",
       "     Conventions:                  CF-1.7 CMIP-6.2\n",
       "     activity_id:                  CMIP\n",
       "     branch_method:                standard\n",
       "     branch_time_in_child:         674885.0\n",
       "     branch_time_in_parent:        10950.0\n",
       "     case_id:                      1559\n",
       "     ...                           ...\n",
       "     grid_original:                native gx1v7 displaced pole grid (384x320 l...\n",
       "     grid_label_original:          gn\n",
       "     nominal_resolution_original:  250 km\n",
       "     regrid_operation:             bilinear_142x160_180x360\n",
       "     regrid_tool:                  xESMF_v0.8.8\n",
       "     regrid_weights_uid:           60d97502982e967028b624a1080ac7fb_d24f4f689f...,\n",
       " 'CMIP6.CMIP.NCAR.CESM2-WACCM-FV2.historical.r1i1p1f1.Omon.tos.gn.v20191120': <xarray.Dataset> Size: 78MB\n",
       " Dimensions:    (lat: 180, lon: 360, bnds: 2, time: 301, d2: 2)\n",
       " Coordinates:\n",
       "   * lat        (lat) float64 1kB -89.5 -88.5 -87.5 -86.5 ... 86.5 87.5 88.5 89.5\n",
       "   * lon        (lon) float64 3kB 0.5 1.5 2.5 3.5 4.5 ... 356.5 357.5 358.5 359.5\n",
       "     lat_bnds   (lat, bnds) float64 3kB ...\n",
       "     lon_bnds   (lon, bnds) float64 6kB ...\n",
       "   * time       (time) object 2kB 1850-01-15 13:00:00.000008 ... 1875-01-15 12...\n",
       "     time_bnds  (time, d2) object 5kB ...\n",
       " Dimensions without coordinates: bnds, d2\n",
       " Data variables:\n",
       "     tos        (time, lat, lon) float32 78MB ...\n",
       "     mask       (lat, lon) int32 259kB ...\n",
       " Attributes: (12/50)\n",
       "     Conventions:                  CF-1.7 CMIP-6.2\n",
       "     activity_id:                  CMIP\n",
       "     branch_method:                standard\n",
       "     branch_time_in_child:         674885.0\n",
       "     branch_time_in_parent:        10950.0\n",
       "     case_id:                      1562\n",
       "     ...                           ...\n",
       "     grid_original:                native gx1v7 displaced pole grid (384x320 l...\n",
       "     grid_label_original:          gn\n",
       "     nominal_resolution_original:  100 km\n",
       "     regrid_operation:             bilinear_142x160_180x360\n",
       "     regrid_tool:                  xESMF_v0.8.8\n",
       "     regrid_weights_uid:           60d97502982e967028b624a1080ac7fb_d24f4f689f...,\n",
       " 'CMIP6.CMIP.CAS.FGOALS-f3-L.historical.r1i1p1f1.Omon.tos.gn.v20191007': <xarray.Dataset> Size: 78MB\n",
       " Dimensions:    (lat: 180, lon: 360, bnds: 2, time: 301)\n",
       " Coordinates:\n",
       "   * lat        (lat) float64 1kB -89.5 -88.5 -87.5 -86.5 ... 86.5 87.5 88.5 89.5\n",
       "   * lon        (lon) float64 3kB 0.5 1.5 2.5 3.5 4.5 ... 356.5 357.5 358.5 359.5\n",
       "     lat_bnds   (lat, bnds) float64 3kB ...\n",
       "     lon_bnds   (lon, bnds) float64 6kB ...\n",
       "   * time       (time) object 2kB 1850-01-16 13:00:00.000008 ... 1875-01-16 12...\n",
       "     time_bnds  (time, bnds) object 5kB ...\n",
       " Dimensions without coordinates: bnds\n",
       " Data variables:\n",
       "     tos        (time, lat, lon) float32 78MB ...\n",
       " Attributes: (12/53)\n",
       "     Conventions:                  CF-1.7 CMIP-6.2\n",
       "     activity_id:                  CMIP\n",
       "     branch_method:                Spin-up documentation\n",
       "     branch_time_in_child:         674885.0\n",
       "     branch_time_in_parent:        218635.0\n",
       "     contact:                      Yongqiang Yu(yyq@lasg.iap.ac.cn)\n",
       "     ...                           ...\n",
       "     grid_original:                gs1x1\n",
       "     grid_label_original:          gn\n",
       "     nominal_resolution_original:  100 km\n",
       "     regrid_operation:             bilinear_61x360_180x360_peri\n",
       "     regrid_tool:                  xESMF_v0.8.8\n",
       "     regrid_weights_uid:           01d63016173edcf6e62f3f63f055db13_d24f4f689f...,\n",
       " 'CMIP6.CMIP.MIROC.MIROC-ES2L.historical.r1i1p1f2.Omon.tos.gn.v20190823': <xarray.Dataset> Size: 78MB\n",
       " Dimensions:    (lat: 180, lon: 360, bnds: 2, time: 301)\n",
       " Coordinates:\n",
       "   * lat        (lat) float64 1kB -89.5 -88.5 -87.5 -86.5 ... 86.5 87.5 88.5 89.5\n",
       "   * lon        (lon) float64 3kB 0.5 1.5 2.5 3.5 4.5 ... 356.5 357.5 358.5 359.5\n",
       "     lat_bnds   (lat, bnds) float64 3kB ...\n",
       "     lon_bnds   (lon, bnds) float64 6kB ...\n",
       "   * time       (time) datetime64[ns] 2kB 1850-01-16T12:00:00 ... 1875-01-16T1...\n",
       "     time_bnds  (time, bnds) datetime64[ns] 5kB ...\n",
       " Dimensions without coordinates: bnds\n",
       " Data variables:\n",
       "     tos        (time, lat, lon) float32 78MB ...\n",
       " Attributes: (12/49)\n",
       "     Conventions:                  CF-1.7 CMIP-6.2\n",
       "     activity_id:                  CMIP\n",
       "     branch_method:                standard\n",
       "     branch_time_in_child:         0.0\n",
       "     branch_time_in_parent:        0.0\n",
       "     creation_date:                2019-07-10T00:47:14Z\n",
       "     ...                           ...\n",
       "     grid_original:                native ocean tripolar grid with 360x256 cells\n",
       "     grid_label_original:          gn\n",
       "     nominal_resolution_original:  100 km\n",
       "     regrid_operation:             bilinear_55x180_180x360\n",
       "     regrid_tool:                  xESMF_v0.8.8\n",
       "     regrid_weights_uid:           6b6f71673d7d880bcba0c34ecd74a109_d24f4f689f...}"
      ]
     },
     "execution_count": 8,
     "metadata": {},
     "output_type": "execute_result"
    }
   ],
   "source": [
    "sst_data"
   ]
  },
  {
   "cell_type": "markdown",
   "metadata": {},
   "source": [
    "## Requesting data with vertical levels\n",
    "\n",
    "This process should be similar to what we have already explored before. The general steps for requesting data are as follows:\n",
    "\n",
    "1. Use `intake_esgf` to search for the dataset of interest.\n",
    "2. Filter the results to get the dataset_ids we want.\n",
    "3. Use `rooki` to subset and regrid the data.\n",
    "4. Download the data."
   ]
  },
  {
   "cell_type": "code",
   "execution_count": null,
   "metadata": {},
   "outputs": [
    {
     "data": {
      "application/vnd.jupyter.widget-view+json": {
       "model_id": "a91b02245b4f403ab59799ea4ec613d8",
       "version_major": 2,
       "version_minor": 0
      },
      "text/plain": [
       "   Searching indices:   0%|          |0/1 [       ?index/s]"
      ]
     },
     "metadata": {},
     "output_type": "display_data"
    },
    {
     "name": "stdout",
     "output_type": "stream",
     "text": [
      "Summary information for 4 results:\n",
      "mip_era                                                     [CMIP6]\n",
      "activity_drs                                                 [CMIP]\n",
      "institution_id                                   [NCAR, CAS, MIROC]\n",
      "source_id         [CESM2-FV2, CESM2-WACCM-FV2, FGOALS-f3-L, MIRO...\n",
      "experiment_id                                          [historical]\n",
      "member_id                                      [r1i1p1f1, r1i1p1f2]\n",
      "table_id                                                     [Omon]\n",
      "variable_id                                                [thetao]\n",
      "grid_label                                                     [gn]\n",
      "dtype: object\n"
     ]
    }
   ],
   "source": [
    "cat = ESGFCatalog()\n",
    "cat.search(\n",
    "    experiment_id=[\"historical\"],\n",
    "    variable_id=[\"thetao\"],\n",
    "    table_id=[\"Omon\"],\n",
    "    project=[\"CMIP6\"],\n",
    "    grid_label=[\"gn\"],\n",
    "    source_id=[\n",
    "        \"CESM2-FV2\",\n",
    "        \"CESM2-WACCM-FV2\",\n",
    "        \"FGOALS-f3-L\",\n",
    "        \"MIROC-ES2L\",\n",
    "    ],\n",
    ")\n",
    "cat.remove_ensembles()\n",
    "print(cat)"
   ]
  },
  {
   "cell_type": "code",
   "execution_count": null,
   "metadata": {},
   "outputs": [
    {
     "data": {
      "text/html": [
       "<div>\n",
       "<style scoped>\n",
       "    .dataframe tbody tr th:only-of-type {\n",
       "        vertical-align: middle;\n",
       "    }\n",
       "\n",
       "    .dataframe tbody tr th {\n",
       "        vertical-align: top;\n",
       "    }\n",
       "\n",
       "    .dataframe thead th {\n",
       "        text-align: right;\n",
       "    }\n",
       "</style>\n",
       "<table border=\"1\" class=\"dataframe\">\n",
       "  <thead>\n",
       "    <tr style=\"text-align: right;\">\n",
       "      <th></th>\n",
       "      <th>project</th>\n",
       "      <th>mip_era</th>\n",
       "      <th>activity_drs</th>\n",
       "      <th>institution_id</th>\n",
       "      <th>source_id</th>\n",
       "      <th>experiment_id</th>\n",
       "      <th>member_id</th>\n",
       "      <th>table_id</th>\n",
       "      <th>variable_id</th>\n",
       "      <th>grid_label</th>\n",
       "      <th>version</th>\n",
       "      <th>id</th>\n",
       "    </tr>\n",
       "  </thead>\n",
       "  <tbody>\n",
       "    <tr>\n",
       "      <th>0</th>\n",
       "      <td>CMIP6</td>\n",
       "      <td>CMIP6</td>\n",
       "      <td>CMIP</td>\n",
       "      <td>NCAR</td>\n",
       "      <td>CESM2-FV2</td>\n",
       "      <td>historical</td>\n",
       "      <td>r1i1p1f1</td>\n",
       "      <td>Omon</td>\n",
       "      <td>thetao</td>\n",
       "      <td>gn</td>\n",
       "      <td>20191120</td>\n",
       "      <td>[CMIP6.CMIP.NCAR.CESM2-FV2.historical.r1i1p1f1...</td>\n",
       "    </tr>\n",
       "    <tr>\n",
       "      <th>1</th>\n",
       "      <td>CMIP6</td>\n",
       "      <td>CMIP6</td>\n",
       "      <td>CMIP</td>\n",
       "      <td>NCAR</td>\n",
       "      <td>CESM2-WACCM-FV2</td>\n",
       "      <td>historical</td>\n",
       "      <td>r1i1p1f1</td>\n",
       "      <td>Omon</td>\n",
       "      <td>thetao</td>\n",
       "      <td>gn</td>\n",
       "      <td>20191120</td>\n",
       "      <td>[CMIP6.CMIP.NCAR.CESM2-WACCM-FV2.historical.r1...</td>\n",
       "    </tr>\n",
       "    <tr>\n",
       "      <th>2</th>\n",
       "      <td>CMIP6</td>\n",
       "      <td>CMIP6</td>\n",
       "      <td>CMIP</td>\n",
       "      <td>CAS</td>\n",
       "      <td>FGOALS-f3-L</td>\n",
       "      <td>historical</td>\n",
       "      <td>r1i1p1f1</td>\n",
       "      <td>Omon</td>\n",
       "      <td>thetao</td>\n",
       "      <td>gn</td>\n",
       "      <td>20191007</td>\n",
       "      <td>[CMIP6.CMIP.CAS.FGOALS-f3-L.historical.r1i1p1f...</td>\n",
       "    </tr>\n",
       "    <tr>\n",
       "      <th>5</th>\n",
       "      <td>CMIP6</td>\n",
       "      <td>CMIP6</td>\n",
       "      <td>CMIP</td>\n",
       "      <td>MIROC</td>\n",
       "      <td>MIROC-ES2L</td>\n",
       "      <td>historical</td>\n",
       "      <td>r1i1p1f2</td>\n",
       "      <td>Omon</td>\n",
       "      <td>thetao</td>\n",
       "      <td>gn</td>\n",
       "      <td>20190823</td>\n",
       "      <td>[CMIP6.CMIP.MIROC.MIROC-ES2L.historical.r1i1p1...</td>\n",
       "    </tr>\n",
       "  </tbody>\n",
       "</table>\n",
       "</div>"
      ],
      "text/plain": [
       "  project mip_era activity_drs institution_id        source_id experiment_id  \\\n",
       "0   CMIP6   CMIP6         CMIP           NCAR        CESM2-FV2    historical   \n",
       "1   CMIP6   CMIP6         CMIP           NCAR  CESM2-WACCM-FV2    historical   \n",
       "2   CMIP6   CMIP6         CMIP            CAS      FGOALS-f3-L    historical   \n",
       "5   CMIP6   CMIP6         CMIP          MIROC       MIROC-ES2L    historical   \n",
       "\n",
       "  member_id table_id variable_id grid_label   version  \\\n",
       "0  r1i1p1f1     Omon      thetao         gn  20191120   \n",
       "1  r1i1p1f1     Omon      thetao         gn  20191120   \n",
       "2  r1i1p1f1     Omon      thetao         gn  20191007   \n",
       "5  r1i1p1f2     Omon      thetao         gn  20190823   \n",
       "\n",
       "                                                  id  \n",
       "0  [CMIP6.CMIP.NCAR.CESM2-FV2.historical.r1i1p1f1...  \n",
       "1  [CMIP6.CMIP.NCAR.CESM2-WACCM-FV2.historical.r1...  \n",
       "2  [CMIP6.CMIP.CAS.FGOALS-f3-L.historical.r1i1p1f...  \n",
       "5  [CMIP6.CMIP.MIROC.MIROC-ES2L.historical.r1i1p1...  "
      ]
     },
     "execution_count": 10,
     "metadata": {},
     "output_type": "execute_result"
    }
   ],
   "source": [
    "cat.df"
   ]
  },
  {
   "cell_type": "code",
   "execution_count": null,
   "metadata": {},
   "outputs": [
    {
     "data": {
      "text/plain": [
       "['CMIP6.CMIP.NCAR.CESM2-FV2.historical.r1i1p1f1.Omon.thetao.gn.v20191120',\n",
       " 'CMIP6.CMIP.NCAR.CESM2-WACCM-FV2.historical.r1i1p1f1.Omon.thetao.gn.v20191120',\n",
       " 'CMIP6.CMIP.CAS.FGOALS-f3-L.historical.r1i1p1f1.Omon.thetao.gn.v20191007',\n",
       " 'CMIP6.CMIP.MIROC.MIROC-ES2L.historical.r1i1p1f2.Omon.thetao.gn.v20190823']"
      ]
     },
     "execution_count": 11,
     "metadata": {},
     "output_type": "execute_result"
    }
   ],
   "source": [
    "collections = cat.df.id.apply(keep_ds_id).to_list()\n",
    "collections"
   ]
  },
  {
   "cell_type": "code",
   "execution_count": null,
   "metadata": {},
   "outputs": [],
   "source": [
    "def get_pacific_ocean(dataset_id):\n",
    "    wf = ops.Regrid(\n",
    "        ops.Subset(\n",
    "            ops.Input(\"thetao\", [dataset_id]),\n",
    "            time=\"1850-01-01/1851-01-31\",\n",
    "            area=\"100,-10,280,10\",\n",
    "            level=\"0/50\",\n",
    "        ),\n",
    "        method=\"billinear\",\n",
    "        grid=\"2pt5deg\",\n",
    "    )\n",
    "    resp = wf.orchestrate()\n",
    "    if resp.ok:\n",
    "        print(f\"{resp.size_in_mb=}\")\n",
    "        ds = resp.datasets()[0]\n",
    "    else:\n",
    "        ds = xr.Dataset()\n",
    "    return ds"
   ]
  },
  {
   "cell_type": "markdown",
   "metadata": {},
   "source": [
    "This might take some time to complete depending on the region and time selection. Another convenient method to load this data is to use the google cloud storage bucket, which can be find [here](https://github.com/ckaramp-research/code-snippets/tree/main)"
   ]
  },
  {
   "cell_type": "code",
   "execution_count": null,
   "metadata": {},
   "outputs": [],
   "source": [
    "thetao_data = {dset: get_pacific_ocean(dset) for dset in collections}"
   ]
  }
 ],
 "metadata": {
  "kernelspec": {
   "display_name": "enso2025",
   "language": "python",
   "name": "python3"
  },
  "language_info": {
   "codemirror_mode": {
    "name": "ipython",
    "version": 3
   },
   "file_extension": ".py",
   "mimetype": "text/x-python",
   "name": "python",
   "nbconvert_exporter": "python",
   "pygments_lexer": "ipython3",
   "version": "3.12.9"
  }
 },
 "nbformat": 4,
 "nbformat_minor": 2
}
